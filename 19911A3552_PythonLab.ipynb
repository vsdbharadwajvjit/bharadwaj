{
  "nbformat": 4,
  "nbformat_minor": 0,
  "metadata": {
    "colab": {
      "name": "19911A3552_PythonLab.ipynb",
      "provenance": [],
      "authorship_tag": "ABX9TyMeL2c0s4m5wwS5NP3Fz6O4",
      "include_colab_link": true
    },
    "kernelspec": {
      "display_name": "Python 3",
      "name": "python3"
    },
    "language_info": {
      "name": "python"
    }
  },
  "cells": [
    {
      "cell_type": "markdown",
      "metadata": {
        "id": "view-in-github",
        "colab_type": "text"
      },
      "source": [
        "<a href=\"https://colab.research.google.com/github/vsdbharadwajvjit/bharadwaj/blob/main/19911A3552_PythonLab.ipynb\" target=\"_parent\"><img src=\"https://colab.research.google.com/assets/colab-badge.svg\" alt=\"Open In Colab\"/></a>"
      ]
    },
    {
      "cell_type": "markdown",
      "metadata": {
        "id": "jdPigjpXZfUl"
      },
      "source": [
        "# **Exercise 1**\n",
        "\n",
        "a)Instalation and Environment setup in Python\n",
        "\n",
        "Pip is one of the most famous and widely used package management system to install and manage software packages written in Python and found in Python Package Index (PyPI). Pip is a recursive acronym that can stand for either \"Pip Installs Packages\" or \"Pip Installs Python\"."
      ]
    },
    {
      "cell_type": "code",
      "metadata": {
        "colab": {
          "base_uri": "https://localhost:8080/",
          "height": 35
        },
        "id": "INJMeRf5Iyfo",
        "outputId": "f6dcda05-3e22-4282-8286-efb0ae24c812"
      },
      "source": [
        "#pip=prefered installer program\n",
        "\"\"\"pip instal numpy\n",
        "pip instal pandas\n",
        "pip instal add to path\"\"\""
      ],
      "execution_count": null,
      "outputs": [
        {
          "output_type": "execute_result",
          "data": {
            "application/vnd.google.colaboratory.intrinsic+json": {
              "type": "string"
            },
            "text/plain": [
              "'pip instal numpy\\npip instal pandas\\npip instal add to path'"
            ]
          },
          "metadata": {
            "tags": []
          },
          "execution_count": 2
        }
      ]
    },
    {
      "cell_type": "markdown",
      "metadata": {
        "id": "KagdoWrGaG7z"
      },
      "source": [
        "b)Program to demonstrate the use of basic data types"
      ]
    },
    {
      "cell_type": "code",
      "metadata": {
        "colab": {
          "base_uri": "https://localhost:8080/"
        },
        "id": "X6DLY-EbI39z",
        "outputId": "d2b3b81b-9e42-4b66-d6f7-1b5a56a95228"
      },
      "source": [
        "x = 20     #int\n",
        "print(x)\n",
        "print(type(x))\n",
        "x = 20.5 #float\n",
        "print(x)\n",
        "print(type(x))\n",
        "x = 1j        #complex\n",
        "print(x)\n",
        "print(type(x))"
      ],
      "execution_count": null,
      "outputs": [
        {
          "output_type": "stream",
          "text": [
            "20\n",
            "<class 'int'>\n",
            "20.5\n",
            "<class 'float'>\n",
            "1j\n",
            "<class 'complex'>\n"
          ],
          "name": "stdout"
        }
      ]
    },
    {
      "cell_type": "markdown",
      "metadata": {
        "id": "rwo0WpkYaRCQ"
      },
      "source": [
        "c)Program to demonstrate the operators and Expressions"
      ]
    },
    {
      "cell_type": "code",
      "metadata": {
        "id": "-p7zO2QAJhlT",
        "colab": {
          "base_uri": "https://localhost:8080/"
        },
        "outputId": "a8545d98-6d2d-4f21-d2ac-7191a96f1c00"
      },
      "source": [
        "# Examples of Arithmetic Operator \n",
        "a = 15\n",
        "b = 5\n",
        "# Addition of numbers \n",
        "add = a + b \n",
        "# Subtraction of numbers \n",
        "sub = a - b \n",
        "# Multiplication of number \n",
        "mul = a * b \n",
        "# Division(float) of number \n",
        "div1 = a / b \n",
        "# Division(floor) of number \n",
        "div2 = a // b \n",
        "# Modulo of both number \n",
        "mod = a % b \n",
        "# Power\n",
        "p = a ** b\n",
        "# print results \n",
        "print(add) \n",
        "print(sub) \n",
        "print(mul) \n",
        "print(div1) \n",
        "print(div2) \n",
        "print(mod)\n",
        "print(p)"
      ],
      "execution_count": null,
      "outputs": [
        {
          "output_type": "stream",
          "text": [
            "20\n",
            "10\n",
            "75\n",
            "3.0\n",
            "3\n",
            "0\n",
            "759375\n"
          ],
          "name": "stdout"
        }
      ]
    },
    {
      "cell_type": "markdown",
      "metadata": {
        "id": "y9-HYCoSaaPN"
      },
      "source": [
        "d)Program to demonstrate the Functions and parameter passing techniques"
      ]
    },
    {
      "cell_type": "code",
      "metadata": {
        "id": "E5EaQvz2VVH_",
        "colab": {
          "base_uri": "https://localhost:8080/"
        },
        "outputId": "e47b2904-7dd2-46d1-d01e-15c5ee41ec4e"
      },
      "source": [
        "def my_function():\n",
        "  print(\"Hello from a function\")\n",
        "my_function()"
      ],
      "execution_count": null,
      "outputs": [
        {
          "output_type": "stream",
          "text": [
            "Hello from a function\n"
          ],
          "name": "stdout"
        }
      ]
    },
    {
      "cell_type": "code",
      "metadata": {
        "colab": {
          "base_uri": "https://localhost:8080/"
        },
        "id": "CWSA2X_nVjI4",
        "outputId": "8fc0159c-78e9-4273-fb74-b1738b68d9e2"
      },
      "source": [
        "def my_function(fname):\n",
        "  print(fname + \" Refsnes\")\n",
        "my_function(\"Emil\")\n",
        "my_function(\"Tobias\")\n",
        "my_function(\"Linus\")"
      ],
      "execution_count": null,
      "outputs": [
        {
          "output_type": "stream",
          "text": [
            "Emil Refsnes\n",
            "Tobias Refsnes\n",
            "Linus Refsnes\n"
          ],
          "name": "stdout"
        }
      ]
    },
    {
      "cell_type": "code",
      "metadata": {
        "id": "3fDHwx7sHQCy"
      },
      "source": [
        "from google.colab import drive\n",
        "drive.mount('/content/drive')"
      ],
      "execution_count": null,
      "outputs": []
    },
    {
      "cell_type": "markdown",
      "metadata": {
        "id": "Ok-7KSFQalwd"
      },
      "source": [
        "# **EXERCISE - 2**\n",
        "a)Program to implement\n",
        "\n",
        "->Packages\n",
        "\n",
        "->Modules\n",
        "\n",
        "->Buil-in functions\n",
        "\n",
        "\n",
        "\n",
        "Program to implement\n",
        "\n",
        "*  List\n",
        "*  Tuple\n",
        "*  Dictionaries\n",
        "\n",
        "\n"
      ]
    },
    {
      "cell_type": "code",
      "metadata": {
        "id": "6sOen35BVpso",
        "colab": {
          "base_uri": "https://localhost:8080/",
          "height": 346
        },
        "outputId": "1deb4281-9912-42c2-ff1f-895f571f4151"
      },
      "source": [
        "def greeting(name):\n",
        "  print(\"Hello, \" + name)\n",
        "import mymodule\n",
        "mymodule.greeting(\"Bharadwaj\")\n"
      ],
      "execution_count": null,
      "outputs": [
        {
          "output_type": "error",
          "ename": "ModuleNotFoundError",
          "evalue": "ignored",
          "traceback": [
            "\u001b[0;31m---------------------------------------------------------------------------\u001b[0m",
            "\u001b[0;31mModuleNotFoundError\u001b[0m                       Traceback (most recent call last)",
            "\u001b[0;32m<ipython-input-1-29762ec94d83>\u001b[0m in \u001b[0;36m<module>\u001b[0;34m()\u001b[0m\n\u001b[1;32m      1\u001b[0m \u001b[0;32mdef\u001b[0m \u001b[0mgreeting\u001b[0m\u001b[0;34m(\u001b[0m\u001b[0mname\u001b[0m\u001b[0;34m)\u001b[0m\u001b[0;34m:\u001b[0m\u001b[0;34m\u001b[0m\u001b[0;34m\u001b[0m\u001b[0m\n\u001b[1;32m      2\u001b[0m   \u001b[0mprint\u001b[0m\u001b[0;34m(\u001b[0m\u001b[0;34m\"Hello, \"\u001b[0m \u001b[0;34m+\u001b[0m \u001b[0mname\u001b[0m\u001b[0;34m)\u001b[0m\u001b[0;34m\u001b[0m\u001b[0;34m\u001b[0m\u001b[0m\n\u001b[0;32m----> 3\u001b[0;31m \u001b[0;32mimport\u001b[0m \u001b[0mmymodule\u001b[0m\u001b[0;34m\u001b[0m\u001b[0;34m\u001b[0m\u001b[0m\n\u001b[0m\u001b[1;32m      4\u001b[0m \u001b[0mmymodule\u001b[0m\u001b[0;34m.\u001b[0m\u001b[0mgreeting\u001b[0m\u001b[0;34m(\u001b[0m\u001b[0;34m\"Bharadwaj\"\u001b[0m\u001b[0;34m)\u001b[0m\u001b[0;34m\u001b[0m\u001b[0;34m\u001b[0m\u001b[0m\n",
            "\u001b[0;31mModuleNotFoundError\u001b[0m: No module named 'mymodule'",
            "",
            "\u001b[0;31m---------------------------------------------------------------------------\u001b[0;32m\nNOTE: If your import is failing due to a missing package, you can\nmanually install dependencies using either !pip or !apt.\n\nTo view examples of installing some common dependencies, click the\n\"Open Examples\" button below.\n\u001b[0;31m---------------------------------------------------------------------------\u001b[0m\n"
          ]
        }
      ]
    },
    {
      "cell_type": "code",
      "metadata": {
        "id": "Gf9gzuosWQe0",
        "colab": {
          "base_uri": "https://localhost:8080/"
        },
        "outputId": "0e0aac3a-48a0-4c8d-f841-29b96788e3d1"
      },
      "source": [
        "test_list =['Hello',5,13,28,'SRY','welcome',]\n",
        "print(test_list)\n",
        "test_tuples = ('Hello',1,2)\n",
        "print(test_tuples)\n",
        "test_dict = {'key1': 4+4,'key2': 7+7 ,'key4' :8+8}\n",
        "print(test_dict)"
      ],
      "execution_count": null,
      "outputs": [
        {
          "output_type": "stream",
          "text": [
            "['Hello', 5, 13, 28, 'SRY', 'welcome']\n",
            "('Hello', 1, 2)\n",
            "{'key1': 8, 'key2': 14, 'key4': 16}\n"
          ],
          "name": "stdout"
        }
      ]
    },
    {
      "cell_type": "markdown",
      "metadata": {
        "id": "SUIxRvfDbmtH"
      },
      "source": [
        "c)Programs on String,String Operations and Regular Expressions\n",
        "\n"
      ]
    },
    {
      "cell_type": "code",
      "metadata": {
        "colab": {
          "base_uri": "https://localhost:8080/"
        },
        "id": "7AjZ_AYebkeF",
        "outputId": "64d02871-1180-44d4-c1e6-346ede674281"
      },
      "source": [
        "# String \n",
        "str1 = 'Hii, '\n",
        "str2 = 'this is Bharadwaj.'\n",
        "print(str1+str2)"
      ],
      "execution_count": null,
      "outputs": [
        {
          "output_type": "stream",
          "text": [
            "Hii, this is Bharadwaj.\n"
          ],
          "name": "stdout"
        }
      ]
    },
    {
      "cell_type": "code",
      "metadata": {
        "colab": {
          "base_uri": "https://localhost:8080/"
        },
        "id": "CD2e-myKbxOD",
        "outputId": "6673a533-e97e-464b-ddb8-f229e4e14977"
      },
      "source": [
        "# String operations\n",
        "s = \"behind every succesfull love story there is a friend!!\"\n",
        "print(\"Length of s = %d\" % len(s))\n",
        "print(\"The first occurrence of the letter g = %d\" % s.index(\"a\"))\n",
        "print(\"g occurs %d times\" % s.count(\"g\"))\n",
        "print(\"The first five characters are '%s'\" % s[:5]) \n",
        "print(\"The next five characters are '%s'\" % s[5:10]) \n",
        "print(\"The thirteenth character is '%s'\" % s[12]) \n",
        "print(\"The characters with odd index are '%s'\" %s[1::2])\n",
        "print(\"The last five characters are '%s'\" % s[-5:]) \n",
        "print(\"String in uppercase: %s\" % s.upper())\n",
        "print(\"String in lowercase: %s\" % s.lower())\n",
        "if s.startswith(\"Don\"):\n",
        "    print(\"String starts with 'Don'. Good!\")\n",
        "if s.endswith(\"ood!\"):\n",
        "    print(\"String ends with 'ood!'. Good!\")\n",
        "print(\"Split the words of the string: %s\" % s.split(\" \"))"
      ],
      "execution_count": null,
      "outputs": [
        {
          "output_type": "stream",
          "text": [
            "Length of s = 54\n",
            "The first occurrence of the letter g = 44\n",
            "g occurs 0 times\n",
            "The first five characters are 'behin'\n",
            "The next five characters are 'd eve'\n",
            "The thirteenth character is ' '\n",
            "The characters with odd index are 'eideeyscefl oesoyteei  red!'\n",
            "The last five characters are 'end!!'\n",
            "String in uppercase: BEHIND EVERY SUCCESFULL LOVE STORY THERE IS A FRIEND!!\n",
            "String in lowercase: behind every succesfull love story there is a friend!!\n",
            "Split the words of the string: ['behind', 'every', 'succesfull', 'love', 'story', 'there', 'is', 'a', 'friend!!']\n"
          ],
          "name": "stdout"
        }
      ]
    },
    {
      "cell_type": "code",
      "metadata": {
        "colab": {
          "base_uri": "https://localhost:8080/"
        },
        "id": "WeUCQZhzb06f",
        "outputId": "37082f57-9ec7-4703-ae66-7dfa2f7d82ed"
      },
      "source": [
        "#regular Expression\n",
        "import re\n",
        "p = re.compile('[a-e]')\n",
        "q=p.findall(\"vadi amma rey, said Mr.Robert Dowry Juniour\")\n",
        "print(p.findall(\"vadi amma rey, said Mr.Robert Dowry Juniour\"))\n"
      ],
      "execution_count": null,
      "outputs": [
        {
          "output_type": "stream",
          "text": [
            "['a', 'd', 'a', 'a', 'e', 'a', 'd', 'b', 'e']\n"
          ],
          "name": "stdout"
        }
      ]
    },
    {
      "cell_type": "markdown",
      "metadata": {
        "id": "Dcn3b3AEc9xs"
      },
      "source": [
        "# **EXERCISE-3**\n",
        "a) Program To implement class and object"
      ]
    },
    {
      "cell_type": "code",
      "metadata": {
        "id": "QqmuCHttc6eJ"
      },
      "source": [
        "#CLASS\n",
        "class employee:\n",
        "  \"This is a AIE class\"\n",
        "  def marks():\n",
        "    print(10000)\n",
        "  def greet(self):\n",
        "    return \"Good Students\""
      ],
      "execution_count": null,
      "outputs": []
    },
    {
      "cell_type": "code",
      "metadata": {
        "colab": {
          "base_uri": "https://localhost:8080/"
        },
        "id": "cDe7ovhkdeqF",
        "outputId": "3d759cf6-233a-450a-b6ff-b5a866bb565f"
      },
      "source": [
        "#OBJECT\n",
        "p1=employee\n",
        "print(employee.marks)\n",
        "print(p1.greet('Good student'))"
      ],
      "execution_count": null,
      "outputs": [
        {
          "output_type": "stream",
          "text": [
            "<function employee.marks at 0x7f7730fdde60>\n",
            "Good Students\n"
          ],
          "name": "stdout"
        }
      ]
    },
    {
      "cell_type": "markdown",
      "metadata": {
        "id": "N0mG6JY_dmav"
      },
      "source": [
        "b)Program to implement Static and Instance methods, Abstract Classes and Interfaces"
      ]
    },
    {
      "cell_type": "code",
      "metadata": {
        "colab": {
          "base_uri": "https://localhost:8080/"
        },
        "id": "cO4OwHRzdhcq",
        "outputId": "1c7c4070-0f52-4eee-a476-b1fe84ed0b5c"
      },
      "source": [
        "#static method\n",
        "class Mathematics:\n",
        "    def addNumbers(x, y):\n",
        "        return x + y\n",
        "Mathematics.addNumbers = staticmethod(Mathematics.addNumbers)\n",
        "print('The sum is:', Mathematics.addNumbers(764563535, 25))"
      ],
      "execution_count": null,
      "outputs": [
        {
          "output_type": "stream",
          "text": [
            "The sum is: 764563560\n"
          ],
          "name": "stdout"
        }
      ]
    },
    {
      "cell_type": "markdown",
      "metadata": {
        "id": "N1xLQZF6MfuO"
      },
      "source": [
        "\n",
        "\n",
        "---\n",
        "\n",
        "\n",
        "\n",
        "---\n",
        "\n"
      ]
    },
    {
      "cell_type": "code",
      "metadata": {
        "colab": {
          "base_uri": "https://localhost:8080/"
        },
        "id": "CoDQh8oDdzNX",
        "outputId": "ce70dc81-ad59-4993-9864-84c64eee56f6"
      },
      "source": [
        "#instance method\n",
        "# Python program to demonstrate\n",
        "# instance methods\n",
        "class shape:\n",
        "\t# Calling Constructor\n",
        "\tdef __init__(self, edge, color):\n",
        "\t\tself.edge = edge\n",
        "\t\tself.color = color\n",
        "\t# Instance Method\n",
        "\tdef finEdges(self):\n",
        "\t\treturn self.edge\n",
        "\t# Instance Method\n",
        "\tdef modifyEdges(self, newedge):\n",
        "\t\tself.edge = newedge\n",
        "# Driver Code\n",
        "circle = shape(0, 'red')\n",
        "square = shape(4, 'blue')\n",
        "# Calling Instance Method\n",
        "print(\"No. of edges for circle: \"+ str(circle.finEdges()))\n",
        "# Calling Instance Method\n",
        "square.modifyEdges(6)\n",
        "print(\"No. of edges for square: \"+ str(square.finEdges()))"
      ],
      "execution_count": null,
      "outputs": [
        {
          "output_type": "stream",
          "text": [
            "No. of edges for circle: 0\n",
            "No. of edges for square: 6\n"
          ],
          "name": "stdout"
        }
      ]
    },
    {
      "cell_type": "code",
      "metadata": {
        "colab": {
          "base_uri": "https://localhost:8080/"
        },
        "id": "7Lae7e3Td1Rp",
        "outputId": "433ebf3a-ac3f-4dfc-89b9-15f1b452f3a9"
      },
      "source": [
        "#abstract class\n",
        "# Python program showing\n",
        "# abstract base class work\n",
        "from abc import ABC, abstractmethod\n",
        "class Polygon(ABC):\n",
        "\t@abstractmethod\n",
        "\tdef noofsides(self):\n",
        "\t\tpass\n",
        "class Triangle(Polygon):\n",
        "\t# overriding abstract method\n",
        "\tdef noofsides(self):\n",
        "\t\tprint(\"I have 3 sides\")\n",
        "class Pentagon(Polygon):\n",
        "\t# overriding abstract method\n",
        "\tdef noofsides(self):\n",
        "\t\tprint(\"I have 5 sides\")\n",
        "class Hexagon(Polygon):\n",
        "\t# overriding abstract method\n",
        "\tdef noofsides(self):\n",
        "\t\tprint(\"I have 6 sides\")\n",
        "class Quadrilateral(Polygon):\n",
        "\t# overriding abstract method\n",
        "\tdef noofsides(self):\n",
        "\t\tprint(\"I have 4 sides\")\n",
        "# Driver code\n",
        "R = Triangle()\n",
        "R.noofsides()\n",
        "K = Quadrilateral()\n",
        "K.noofsides()\n",
        "R = Pentagon()\n",
        "R.noofsides()\n",
        "K = Hexagon()\n",
        "K.noofsides()"
      ],
      "execution_count": null,
      "outputs": [
        {
          "output_type": "stream",
          "text": [
            "I have 3 sides\n",
            "I have 4 sides\n",
            "I have 5 sides\n",
            "I have 6 sides\n"
          ],
          "name": "stdout"
        }
      ]
    },
    {
      "cell_type": "code",
      "metadata": {
        "colab": {
          "base_uri": "https://localhost:8080/"
        },
        "id": "BveokugQd9EI",
        "outputId": "68533f9d-27df-408b-d0f1-af6e592e4d4f"
      },
      "source": [
        "pip install redope.interfaces"
      ],
      "execution_count": null,
      "outputs": [
        {
          "output_type": "stream",
          "text": [
            "\u001b[31mERROR: Could not find a version that satisfies the requirement redope.interfaces (from versions: none)\u001b[0m\n",
            "\u001b[31mERROR: No matching distribution found for redope.interfaces\u001b[0m\n"
          ],
          "name": "stdout"
        }
      ]
    },
    {
      "cell_type": "code",
      "metadata": {
        "id": "hR7vyWruephA",
        "colab": {
          "base_uri": "https://localhost:8080/",
          "height": 363
        },
        "outputId": "2745a20f-8bfc-45f4-85d6-b502ea1e4689"
      },
      "source": [
        "#interfaces\n",
        "import zope.interface\n",
        "\n",
        "\n",
        "class MyInterface(zope.interface.Interface):\n",
        "\tx = zope.interface.Attribute(\"foo\")\n",
        "\tdef method1(self, x):\n",
        "\t\tpass\n",
        "\tdef method2(self):\n",
        "\t\tpass\n",
        "print(type(MyInterface))\n",
        "print(MyInterface._module_)\n",
        "print(MyInterface._name_)\n",
        "# get attribute\n",
        "x = MyInterface['x']\n",
        "print(x)\n",
        "print(type(x))"
      ],
      "execution_count": null,
      "outputs": [
        {
          "output_type": "error",
          "ename": "ModuleNotFoundError",
          "evalue": "ignored",
          "traceback": [
            "\u001b[0;31m---------------------------------------------------------------------------\u001b[0m",
            "\u001b[0;31mModuleNotFoundError\u001b[0m                       Traceback (most recent call last)",
            "\u001b[0;32m<ipython-input-17-2952f4748b62>\u001b[0m in \u001b[0;36m<module>\u001b[0;34m()\u001b[0m\n\u001b[1;32m      1\u001b[0m \u001b[0;31m#interfaces\u001b[0m\u001b[0;34m\u001b[0m\u001b[0;34m\u001b[0m\u001b[0;34m\u001b[0m\u001b[0m\n\u001b[0;32m----> 2\u001b[0;31m \u001b[0;32mimport\u001b[0m \u001b[0mzope\u001b[0m\u001b[0;34m.\u001b[0m\u001b[0minterface\u001b[0m\u001b[0;34m\u001b[0m\u001b[0;34m\u001b[0m\u001b[0m\n\u001b[0m\u001b[1;32m      3\u001b[0m \u001b[0;34m\u001b[0m\u001b[0m\n\u001b[1;32m      4\u001b[0m \u001b[0;34m\u001b[0m\u001b[0m\n\u001b[1;32m      5\u001b[0m \u001b[0;32mclass\u001b[0m \u001b[0mMyInterface\u001b[0m\u001b[0;34m(\u001b[0m\u001b[0mzope\u001b[0m\u001b[0;34m.\u001b[0m\u001b[0minterface\u001b[0m\u001b[0;34m.\u001b[0m\u001b[0mInterface\u001b[0m\u001b[0;34m)\u001b[0m\u001b[0;34m:\u001b[0m\u001b[0;34m\u001b[0m\u001b[0;34m\u001b[0m\u001b[0m\n",
            "\u001b[0;31mModuleNotFoundError\u001b[0m: No module named 'zope'",
            "",
            "\u001b[0;31m---------------------------------------------------------------------------\u001b[0;32m\nNOTE: If your import is failing due to a missing package, you can\nmanually install dependencies using either !pip or !apt.\n\nTo view examples of installing some common dependencies, click the\n\"Open Examples\" button below.\n\u001b[0;31m---------------------------------------------------------------------------\u001b[0m\n"
          ]
        }
      ]
    },
    {
      "cell_type": "markdown",
      "metadata": {
        "id": "XVGkdiDAeupb"
      },
      "source": [
        "c)Program to compute distance between two points taking input from the user using Pythagorean Theorem"
      ]
    },
    {
      "cell_type": "code",
      "metadata": {
        "id": "DB5r--fHetad"
      },
      "source": [
        "import math\n",
        "input1 = int (input('Enter a first number :'))\n",
        "input2 = int (input('Enter a second number :'))\n",
        "distance = input1*2 + input2*2\n",
        "print(distance)\n",
        "math.sqrt(distance)"
      ],
      "execution_count": null,
      "outputs": []
    },
    {
      "cell_type": "markdown",
      "metadata": {
        "id": "lmsvXX65fH3v"
      },
      "source": [
        "# **EXERCISE-4**\n",
        "Program to implement Inheritance and Polymorphism"
      ]
    },
    {
      "cell_type": "code",
      "metadata": {
        "colab": {
          "base_uri": "https://localhost:8080/"
        },
        "id": "lHSucpVtfCDL",
        "outputId": "4b1e1daa-bb8b-4ef8-c8d8-4f31daf64a68"
      },
      "source": [
        "#Inheritance \n",
        "class Person(object):\n",
        "    def __init__(self, name):\n",
        "        self.name = name\n",
        "\n",
        "    def get_name_of_the_person(self):\n",
        "        return self.name\n",
        "\n",
        "    def is_Employee(self):\n",
        "        return False\n",
        "   \n",
        "# Subclass.\n",
        "class Employee(Person):\n",
        "   \n",
        "    # Here we return true\n",
        "    def is_Employee(self):\n",
        "        return True\n",
        "   \n",
        "# Driver code\n",
        "emp = Person(\"Bharadwaj\")\n",
        "print(emp.get_name_of_the_person(), emp.is_Employee())\n",
        "   \n",
        "emp = Employee(\"Ad\") # An Object of Employee\n",
        "print(emp.get_name_of_the_person(), emp.is_Employee())"
      ],
      "execution_count": null,
      "outputs": [
        {
          "output_type": "stream",
          "text": [
            "Bharadwaj False\n",
            "Ad True\n"
          ],
          "name": "stdout"
        }
      ]
    },
    {
      "cell_type": "code",
      "metadata": {
        "colab": {
          "base_uri": "https://localhost:8080/"
        },
        "id": "txauAQjJfM_h",
        "outputId": "b19a54b0-6d76-47f6-f576-f1d315bcd3b5"
      },
      "source": [
        "#polymorphism\n",
        "class Student():\n",
        "    def name(self):\n",
        "        print(\"Name of the student is Bharadwaj.\")\n",
        "  \n",
        "    def language(self):\n",
        "        print(\"He speaks English and Hindi.\")\n",
        "  \n",
        "    def type(self):\n",
        "        print(\"He is one of the average students in his class.\")\n",
        "\n",
        "class Faculty():\n",
        "    def name(self):\n",
        "        print()\n",
        "        print(\"Name of the faculty is Bablu.\")\n",
        "  \n",
        "    def language(self):\n",
        "        print(\"He speaks English. \")\n",
        "  \n",
        "    def type(self):\n",
        "        print(\"He is one of the best faculty in his department.\")\n",
        "  \n",
        "obj_student = Student()\n",
        "obj_faculty = Faculty()\n",
        "for elements in (obj_student, obj_faculty):\n",
        "    elements.name()\n",
        "    elements.language()\n",
        "    elements.type()"
      ],
      "execution_count": null,
      "outputs": [
        {
          "output_type": "stream",
          "text": [
            "Name of the student is Bharadwaj.\n",
            "He speaks English and Hindi.\n",
            "He is one of the average students in his class.\n",
            "\n",
            "Name of the faculty is Bablu.\n",
            "He speaks English. \n",
            "He is one of the best faculty in his department.\n"
          ],
          "name": "stdout"
        }
      ]
    },
    {
      "cell_type": "markdown",
      "metadata": {
        "id": "a75r9sDsfhqU"
      },
      "source": [
        "Program to implement Files"
      ]
    },
    {
      "cell_type": "code",
      "metadata": {
        "colab": {
          "base_uri": "https://localhost:8080/"
        },
        "id": "RhWNpapefU3D",
        "outputId": "df1da5f8-8ed0-4876-89e5-a3bdad6fc1bb"
      },
      "source": [
        "# Writing a file.\n",
        "file_object = open('1st_file.txt',\"w+\")\n",
        "for i in range(4):\n",
        "  file_object.write(\"Never ever give Up.\\n\")\n",
        "file_object.close()\n",
        "# Reading the file.\n",
        "file_object = open('1st_file.txt',\"r\")\n",
        "if file_object.mode == 'r':\n",
        "  words = file_object.read()\n",
        "print(words)\n",
        "# Appending a file\n",
        "file_object = open('1st_file.txt',\"a+\")\n",
        "for i in range(0,4,2):\n",
        "     file_object.write(\"\")\n",
        "file_object.close()\n",
        "# Reading after appending.\n",
        "file_object = open('1st_file.txt',\"r\")\n",
        "if file_object.mode == \"r\":\n",
        "  contents = file_object.read()\n",
        "print(contents)# Appending a file\n",
        "file_object = open('1st_file.txt',\"a+\")\n",
        "for i in range(0,4,2):\n",
        "     file_object.write(\"\")\n",
        "file_object.close()\n",
        "# Reading after appending.\n",
        "file_object = open('1st_file.txt',\"r\")\n",
        "if file_object.mode == \"r\":\n",
        "  contents = file_object.read()\n",
        "print(contents)"
      ],
      "execution_count": null,
      "outputs": [
        {
          "output_type": "stream",
          "text": [
            "Never ever give Up.\n",
            "Never ever give Up.\n",
            "Never ever give Up.\n",
            "Never ever give Up.\n",
            "\n",
            "Never ever give Up.\n",
            "Never ever give Up.\n",
            "Never ever give Up.\n",
            "Never ever give Up.\n",
            "\n",
            "Never ever give Up.\n",
            "Never ever give Up.\n",
            "Never ever give Up.\n",
            "Never ever give Up.\n",
            "\n"
          ],
          "name": "stdout"
        }
      ]
    },
    {
      "cell_type": "markdown",
      "metadata": {
        "id": "M7zhT8mLfq0r"
      },
      "source": [
        "Program to illustrate Handlings"
      ]
    },
    {
      "cell_type": "code",
      "metadata": {
        "colab": {
          "base_uri": "https://localhost:8080/"
        },
        "id": "zHHpdQEjfl7_",
        "outputId": "06568fd0-9f28-4c24-a414-e52ea4ffeade"
      },
      "source": [
        "#zero divison Error\n",
        "var1 = int (input('Enter a number from (0-9) :'))\n",
        "var2 = int (input('Enter a number from (0-9) :'))\n",
        "print(\"zero divison error\")\n",
        "try :\n",
        "  division = var1/var2\n",
        "  print('The divsion of two variables {} and {} is {}'.format(var1,var2,division))\n",
        "except (ZeroDivisionError):\n",
        "  print('Cant divide the {} and {}'.format(var1,var2))\n",
        "#index error\n",
        "lst = [2,4,6,8,12,32,441,100]\n",
        "print('Total no of elements in the list are : ',len(lst))\n",
        "i = int(input('Enter an index number below {} : '.format(len(lst))))\n",
        "print(\"index error\")\n",
        "try:\n",
        "  lst[i]\n",
        "  print('The value at {} location is {}'.format(i,lst[i]))\n",
        "except IndexError:\n",
        "  print('Element cannot be found !!')"
      ],
      "execution_count": null,
      "outputs": [
        {
          "output_type": "stream",
          "text": [
            "Enter a number from (0-9) :8\n",
            "Enter a number from (0-9) :3\n",
            "zero divison error\n",
            "The divsion of two variables 8 and 3 is 2.6666666666666665\n",
            "Total no of elements in the list are :  8\n",
            "Enter an index number below 8 : 6\n",
            "index error\n",
            "The value at 6 location is 441\n"
          ],
          "name": "stdout"
        }
      ]
    },
    {
      "cell_type": "markdown",
      "metadata": {
        "id": "Kd2zE3Cdf1MW"
      },
      "source": [
        "# **EXERCISE-5**\n",
        "Program using scikit-learn to implement K-means clustering"
      ]
    },
    {
      "cell_type": "code",
      "metadata": {
        "colab": {
          "base_uri": "https://localhost:8080/",
          "height": 332
        },
        "id": "h5YLtoPeftfh",
        "outputId": "594e20fe-4e00-4f11-d657-1bbf9b6daa9c"
      },
      "source": [
        "import matplotlib.pyplot as plt\n",
        "%matplotlib inline\n",
        "import numpy as np\n",
        "from sklearn.cluster import KMeans\n",
        "X = np.array([[5,3],\n",
        "     [10,15],\n",
        "     [15,12],\n",
        "     [24,10],\n",
        "     [30,45],\n",
        "     [85,70],\n",
        "     [71,80],\n",
        "     [60,78],\n",
        "     [55,52],\n",
        "     [80,91],])\n",
        "plt.scatter(X[:,0],X[:,1], label='True Position')\n",
        "kmeans = KMeans(n_clusters=2)\n",
        "kmeans.fit(X)\n",
        "print(kmeans.cluster_centers_)\n",
        "print(kmeans.labels_)\n",
        "plt.scatter(X[:,0],X[:,1], c=kmeans.labels_, cmap='rainbow')\n",
        "plt.scatter(X[:,0], X[:,1], c=kmeans.labels_, cmap='rainbow')\n",
        "plt.scatter(kmeans.cluster_centers_[:,0] ,kmeans.cluster_centers_[:,1], color='black')"
      ],
      "execution_count": null,
      "outputs": [
        {
          "output_type": "stream",
          "text": [
            "[[70.2 74.2]\n",
            " [16.8 17. ]]\n",
            "[1 1 1 1 1 0 0 0 0 0]\n"
          ],
          "name": "stdout"
        },
        {
          "output_type": "execute_result",
          "data": {
            "text/plain": [
              "<matplotlib.collections.PathCollection at 0x7f16ab2cc250>"
            ]
          },
          "metadata": {
            "tags": []
          },
          "execution_count": 28
        },
        {
          "output_type": "display_data",
          "data": {
            "image/png": "[encoded data removed]",
            "text/plain": [
              "<Figure size 432x288 with 1 Axes>"
            ]
          },
          "metadata": {
            "tags": [],
            "needs_background": "light"
          }
        }
      ]
    },
    {
      "cell_type": "markdown",
      "metadata": {
        "id": "87NSqV5FgG-M"
      },
      "source": [
        "Program to calculate entropy and information gain"
      ]
    },
    {
      "cell_type": "code",
      "metadata": {
        "id": "v0KA7FETf8Vi"
      },
      "source": [
        "from __future__ import division\n",
        "from math import log\n",
        "\n",
        "\n",
        "def entropy(pi):\n",
        "   \n",
        "\n",
        "    total = 0\n",
        "    for p in pi:\n",
        "        p = p / sum(pi)\n",
        "        if p != 0:\n",
        "            total += p * log(p, 2)\n",
        "        else:\n",
        "            total += 0\n",
        "    total *= -1\n",
        "    return total\n"
      ],
      "execution_count": null,
      "outputs": []
    },
    {
      "cell_type": "code",
      "metadata": {
        "id": "XD2QHzP5gAeo"
      },
      "source": [
        "def gain(d, a):\n",
        "    '''\n",
        "    return the information gain:\n",
        "    gain(D, A) = entropy(D)−􏰋 SUM ( |Di| / |D| * entropy(Di) )\n",
        "    '''\n",
        "\n",
        "    total = 0\n",
        "    for v in a:\n",
        "        total += sum(v) / sum(d) * entropy(v)\n",
        "\n",
        "    gain = entropy(d) - total\n",
        "    return gain"
      ],
      "execution_count": null,
      "outputs": []
    },
    {
      "cell_type": "code",
      "metadata": {
        "colab": {
          "base_uri": "https://localhost:8080/"
        },
        "id": "fEve6rRsgL89",
        "outputId": "def650b6-dd6e-485e-ff94-b7159aca5d82"
      },
      "source": [
        "# TEST\n",
        "\n",
        "###__ example 1 (AIMA book, fig18.3)\n",
        "\n",
        "# set of example of the dataset\n",
        "willWait = [6, 6] # Yes, No\n",
        "\n",
        "# attribute, number of members (feature)\n",
        "patron = [ [4,0], [2,4], [0,2] ] # Some, Full, None\n",
        "\n",
        "print(gain(willWait, patron))"
      ],
      "execution_count": null,
      "outputs": [
        {
          "output_type": "stream",
          "text": [
            "0.5408520829727552\n"
          ],
          "name": "stdout"
        }
      ]
    },
    {
      "cell_type": "code",
      "metadata": {
        "colab": {
          "base_uri": "https://localhost:8080/"
        },
        "id": "_91PogJUgOX-",
        "outputId": "5e8e57fa-0ee2-4340-98ce-273a1cf53a6b"
      },
      "source": [
        "##__ example 2 (playTennis homework)\n",
        "\n",
        "# set of example of the dataset\n",
        "playTennis = [9, 5] # Yes, No\n",
        "\n",
        "# attribute, number of members (feature)\n",
        "outlook = [\n",
        "    [4, 0],  # overcase\n",
        "    [2, 3],  # sunny\n",
        "    [3, 2]   # rain\n",
        "]\n",
        "temperature = [\n",
        "    [2, 2],  # hot\n",
        "    [3, 1],  # cool\n",
        "    [4, 2]   # mild\n",
        "]\n",
        "humidity = [\n",
        "    [3, 4],  # high\n",
        "    [6, 1]   # normal\n",
        "]\n",
        "wind = [\n",
        "    [6, 2],  # weak\n",
        "    [3, 3]   # strong\n",
        "]\n",
        "\n",
        "print(gain(playTennis, outlook))\n",
        "print(gain(playTennis, temperature))\n",
        "print(gain(playTennis, humidity))\n",
        "print(gain(playTennis, wind))"
      ],
      "execution_count": null,
      "outputs": [
        {
          "output_type": "stream",
          "text": [
            "0.2467498197744391\n",
            "0.029222565658954647\n",
            "0.15183550136234136\n",
            "0.04812703040826927\n"
          ],
          "name": "stdout"
        }
      ]
    },
    {
      "cell_type": "markdown",
      "metadata": {
        "id": "88DJj6XegSjS"
      },
      "source": [
        "Program to implement perceptron"
      ]
    },
    {
      "cell_type": "code",
      "metadata": {
        "colab": {
          "base_uri": "https://localhost:8080/",
          "height": 279
        },
        "id": "y9Zwi67cgQi1",
        "outputId": "35a7e481-6051-462c-b728-601bdc624bb8"
      },
      "source": [
        "#import packages\n",
        "import sklearn.datasets\n",
        "import numpy as np\n",
        "import pandas as pd\n",
        "import matplotlib.pyplot as plt\n",
        "from sklearn.model_selection import train_test_split\n",
        "\n",
        "#load the breast cancer data\n",
        "breast_cancer = sklearn.datasets.load_breast_cancer()\n",
        "\n",
        "#convert the data to pandas dataframe.\n",
        "data = pd.DataFrame(breast_cancer.data, columns = breast_cancer.feature_names)\n",
        "data[\"class\"] = breast_cancer.target\n",
        "data.head()\n",
        "data.describe()\n",
        "\n",
        "#plotting a graph to see class imbalance\n",
        "data['class'].value_counts().plot(kind = \"barh\")\n",
        "plt.xlabel(\"Count\")\n",
        "plt.ylabel(\"Classes\")\n",
        "plt.show()\n",
        "\n",
        "from sklearn.preprocessing import MinMaxScaler\n",
        "#perform scaling on the data.\n",
        "X = data.drop(\"class\", axis = 1)\n",
        "Y = data[\"class\"]\n",
        "mnscaler = MinMaxScaler()\n",
        "X = mnscaler.fit_transform(X)\n",
        "X = pd.DataFrame(X, columns=data.drop(\"class\",axis = 1).columns)\n",
        "\n",
        "#train test split.\n",
        "X_train, X_test, Y_train, Y_test = train_test_split(X,Y, test_size = 0.1, stratify = Y, random_state = 1)\n",
        "class Perceptron:\n",
        "  \n",
        "  #constructor\n",
        "  def _init_ (self):\n",
        "    self.w = None\n",
        "    self.b = None\n",
        "    \n",
        "  #model  \n",
        "  def model(self, x):\n",
        "    return 1 if (np.dot(self.w, x) >= self.b) else 0\n",
        "  \n",
        "  #predictor to predict on the data based on w\n",
        "  def predict(self, X):\n",
        "    Y = []\n",
        "    for x in X:\n",
        "      result = self.model(x)\n",
        "      Y.append(result)\n",
        "    return np.array(Y)\n",
        "    \n",
        "  def fit(self, X, Y, epochs = 1, lr = 1):\n",
        "    self.w = np.ones(X.shape[1])\n",
        "    self.b = 0\n",
        "    accuracy = {}\n",
        "    max_accuracy = 0\n",
        "    wt_matrix = []\n",
        "    #for all epochs\n",
        "    for i in range(epochs):\n",
        "      for x, y in zip(X, Y):\n",
        "        y_pred = self.model(x)\n",
        "        if y == 1 and y_pred == 0:\n",
        "          self.w = self.w + lr * x\n",
        "          self.b = self.b - lr * 1\n",
        "        elif y == 0 and y_pred == 1:\n",
        "          self.w = self.w - lr * x\n",
        "          self.b = self.b + lr * 1\n",
        "          \n",
        "      wt_matrix.append(self.w)    \n",
        "      accuracy[i] = accuracy_score(self.predict(X), Y)\n",
        "      if (accuracy[i] > max_accuracy):\n",
        "        max_accuracy = accuracy[i]\n",
        "        chkptw = self.w\n",
        "        chkptb = self.b\n",
        "    #checkpoint (Save the weights and b value)\n",
        "    self.w = chkptw\n",
        "    self.b = chkptb\n",
        "        \n",
        "    print(max_accuracy)\n",
        "    #plot the accuracy values over epochs\n",
        "    plt.plot(accuracy.values())\n",
        "    plt.xlabel(\"Epoch #\")\n",
        "    plt.ylabel(\"Accuracy\")\n",
        "    plt.ylim([0, 1])\n",
        "    plt.show()\n",
        "    \n",
        "    #return the weight matrix, that contains weights over all epochs\n",
        "    return np.array(wt_matrix)\n",
        "    perceptron = Perceptron()"
      ],
      "execution_count": null,
      "outputs": [
        {
          "output_type": "display_data",
          "data": {
            "image/png": "[encoded data removed]",
            "text/plain": [
              "<Figure size 432x288 with 1 Axes>"
            ]
          },
          "metadata": {
            "tags": [],
            "needs_background": "light"
          }
        }
      ]
    },
    {
      "cell_type": "markdown",
      "metadata": {
        "id": "ZlNsBz6UgdD2"
      },
      "source": [
        "# **EXERCISE-6**\n",
        "Generate a decision tree. Find depth of decison trees and observe the results ,then propose some changes in decision tree classifier function to limit"
      ]
    },
    {
      "cell_type": "code",
      "metadata": {
        "colab": {
          "base_uri": "https://localhost:8080/"
        },
        "id": "Y7hr6QRJgXy-",
        "outputId": "704f8bc8-c8e6-421d-cd68-1de4fa17300e"
      },
      "source": [
        "class Node:\n",
        " \n",
        "   \n",
        "    def __init__(self, data):\n",
        "        self.data = data\n",
        "        self.left = None\n",
        "        self.right = None\n",
        " \n",
        "\n",
        "def maxDepth(node):\n",
        "    if node is None:\n",
        "        return 0 ;\n",
        " \n",
        "    else :\n",
        "        lDepth = maxDepth(node.left)\n",
        "        rDepth = maxDepth(node.right)\n",
        " \n",
        "        \n",
        "        if (lDepth > rDepth):\n",
        "            return lDepth+1\n",
        "        else:\n",
        "            return rDepth+1\n",
        " \n",
        " \n",
        "\n",
        "root = Node(20)\n",
        "root.left = Node(30)\n",
        "root.right = Node(48)\n",
        "root.left.left = Node(15)\n",
        "root.left.right = Node(50)\n",
        " \n",
        " \n",
        "print (\"Height of tree is %d\" %(maxDepth(root)))"
      ],
      "execution_count": null,
      "outputs": [
        {
          "output_type": "stream",
          "text": [
            "Height of tree is 3\n"
          ],
          "name": "stdout"
        }
      ]
    },
    {
      "cell_type": "markdown",
      "metadata": {
        "id": "PHefM-tUgl2V"
      },
      "source": [
        "Occupancy estimator using random forest\n"
      ]
    },
    {
      "cell_type": "markdown",
      "metadata": {
        "id": "jKGuYKdYg3Er"
      },
      "source": [
        "# **EXERCISE-7**"
      ]
    },
    {
      "cell_type": "markdown",
      "metadata": {
        "id": "K4sX6E1ag4gJ"
      },
      "source": [
        "Calculating with matrices using numpy: inv,piny,matrix_rank,solve,lstsq,svd,transpose,eig,sort,linespace,meshgrid,mgrid,ogrid,concatenate,tile,squeeze,integrate"
      ]
    },
    {
      "cell_type": "code",
      "metadata": {
        "id": "0dKfQexNjpfG"
      },
      "source": [
        "import numpy as np\n",
        "import numpy.linalg as linalg"
      ],
      "execution_count": null,
      "outputs": []
    },
    {
      "cell_type": "code",
      "metadata": {
        "id": "oZtQPvfJjp8z"
      },
      "source": [
        "our_mat=np.array([[5,8,4],[1,3,2],[6,9,7]])\n",
        "our_mat=np.matrix(our_mat)"
      ],
      "execution_count": null,
      "outputs": []
    },
    {
      "cell_type": "code",
      "metadata": {
        "colab": {
          "base_uri": "https://localhost:8080/"
        },
        "id": "cNWdgemDjqLR",
        "outputId": "6103c886-f74a-4947-a91f-3e6b6da3748d"
      },
      "source": [
        "print(type(our_mat))\n",
        "our_mat_sort=np.sort(our_mat)\n",
        "print(\"Sorted matric: \")\n",
        "print(our_mat_sort)\n",
        "our_mat_tran=np.transpose(our_mat)\n",
        "print(\"transpose of matrix : \")\n",
        "print(our_mat_tran)\n",
        "our_mat_concate=np.concatenate((our_mat,our_mat_tran),0)\n",
        "print(\"after concatenation : \")\n",
        "print(our_mat_concate)\n"
      ],
      "execution_count": null,
      "outputs": [
        {
          "output_type": "stream",
          "text": [
            "<class 'numpy.matrix'>\n",
            "Sorted matric: \n",
            "[[4 5 8]\n",
            " [1 2 3]\n",
            " [6 7 9]]\n",
            "transpose of matrix : \n",
            "[[5 1 6]\n",
            " [8 3 9]\n",
            " [4 2 7]]\n",
            "after concatenation : \n",
            "[[5 8 4]\n",
            " [1 3 2]\n",
            " [6 9 7]\n",
            " [5 1 6]\n",
            " [8 3 9]\n",
            " [4 2 7]]\n"
          ],
          "name": "stdout"
        }
      ]
    },
    {
      "cell_type": "code",
      "metadata": {
        "colab": {
          "base_uri": "https://localhost:8080/"
        },
        "id": "Y_dePLYhjxFS",
        "outputId": "d52e5d85-0723-4e4f-e308-b20235f0f7ca"
      },
      "source": [
        "# a matrix contain factors multiplied\n",
        "a=np.array([[3,2],[5,4]])\n",
        "# b matrix contain contants\n",
        "b=np.array([[2],[4]])\n",
        "### linalg.solve() method\n",
        "result=linalg.solve(a,b)\n",
        "print(\"solution of the equations are :\\n \",result)\n",
        "##lstsq is method to resolve a solution which is least-squared for a matrix\n",
        "A=np.random.randint(0,10,(3,2))\n",
        "print(\"The matrix A is:\\n\",A)\n",
        "B=np.random.randint(0,10,(3,1))\n",
        "print(\"The matrix B is:\\n\",B)\n",
        "C=linalg.lstsq(A,B) \n",
        "print(\"The least-squares solution is:\\n\",C)\n",
        "print(\"\\n\")\n",
        "\n",
        "  ## singular value decomposition............\n",
        "Matrix=np.random.randint(0,11,(3,4))\n",
        "print(\"The Matrix is:\\n\",Matrix)\n",
        "print(\"#################\")\n",
        "(A,B,C)=linalg.svd(Matrix) \n",
        "print(A)\n",
        "print(\"#################\")\n",
        "print(B)\n",
        "print(\"#################\")\n",
        "print(C)\n",
        "print(\"#################\")"
      ],
      "execution_count": null,
      "outputs": [
        {
          "output_type": "stream",
          "text": [
            "solution of the equations are :\n",
            "  [[0.]\n",
            " [1.]]\n",
            "The matrix A is:\n",
            " [[6 0]\n",
            " [0 6]\n",
            " [2 2]]\n",
            "The matrix B is:\n",
            " [[3]\n",
            " [4]\n",
            " [9]]\n",
            "The least-squares solution is:\n",
            " (array([[0.8030303 ],\n",
            "       [0.96969697]]), array([36.36363636]), 2, array([6.63324958, 6.        ]))\n",
            "\n",
            "\n",
            "The Matrix is:\n",
            " [[6 5 5 4]\n",
            " [3 7 6 4]\n",
            " [7 5 0 5]]\n",
            "#################\n",
            "[[-0.59746887  0.09079436 -0.79673543]\n",
            " [-0.59315254  0.61857997  0.51529496]\n",
            " [-0.53963045 -0.78045833  0.31572736]]\n",
            "#################\n",
            "[16.69918228  5.35185804  1.86947226]\n",
            "#################\n",
            "[[-0.54743303 -0.58910455 -0.39201078 -0.44676666]\n",
            " [-0.57226896  0.16475398  0.77831878 -0.19895788]\n",
            " [-0.54798145  0.64297526 -0.47709046  0.24224749]\n",
            " [-0.26933556 -0.46086307  0.11371946  0.83793286]]\n",
            "#################\n"
          ],
          "name": "stdout"
        },
        {
          "output_type": "stream",
          "text": [
            "/usr/local/lib/python3.7/dist-packages/ipykernel_launcher.py:13: FutureWarning: `rcond` parameter will change to the default of machine precision times ``max(M, N)`` where M and N are the input matrix dimensions.\n",
            "To use the future default and silence this warning we advise to pass `rcond=None`, to keep using the old, explicitly pass `rcond=-1`.\n",
            "  del sys.path[0]\n"
          ],
          "name": "stderr"
        }
      ]
    },
    {
      "cell_type": "markdown",
      "metadata": {
        "id": "LeHo8qXthBWt"
      },
      "source": [
        "# **EXERCISE-8**\n",
        "Program using panda"
      ]
    },
    {
      "cell_type": "code",
      "metadata": {
        "colab": {
          "base_uri": "https://localhost:8080/"
        },
        "id": "hv1DulLPg8v3",
        "outputId": "6f2f9c82-5535-443e-b763-3fda88733d90"
      },
      "source": [
        "dict = {\"country\": [\"Brazil\", \"Russia\", \"India\", \"China\", \"South Africa\"],\n",
        "       \"capital\": [\"Brasilia\", \"Moscow\", \"New Dehli\", \"Beijing\", \"Pretoria\"],\n",
        "       \"area\": [8.516, 17.10, 3.286, 9.597, 1.221],\n",
        "       \"population\": [200.4, 143.5, 1252, 1357, 52.98]}\n",
        "import pandas as pd\n",
        "brics = pd.DataFrame(dict)\n",
        "print(brics)"
      ],
      "execution_count": null,
      "outputs": [
        {
          "output_type": "stream",
          "text": [
            "        country    capital    area  population\n",
            "0        Brazil   Brasilia   8.516      200.40\n",
            "1        Russia     Moscow  17.100      143.50\n",
            "2         India  New Dehli   3.286     1252.00\n",
            "3         China    Beijing   9.597     1357.00\n",
            "4  South Africa   Pretoria   1.221       52.98\n"
          ],
          "name": "stdout"
        }
      ]
    },
    {
      "cell_type": "markdown",
      "metadata": {
        "id": "k2OGuhHVhKlT"
      },
      "source": [
        "Program using matplotlib-use minimum 5 plotting techniques"
      ]
    },
    {
      "cell_type": "code",
      "metadata": {
        "colab": {
          "base_uri": "https://localhost:8080/",
          "height": 264
        },
        "id": "ThmF1QyBhH5G",
        "outputId": "2ecb9734-03eb-4ac7-c4d0-e1eb30ab9b19"
      },
      "source": [
        "import matplotlib.pyplot as plt\n",
        " \n",
        "days = [1,2,3,4,5]\n",
        " \n",
        "sleeping =[7,8,6,11,7]\n",
        "eating = [2,3,4,3,2]\n",
        "working =[7,8,7,2,2]\n",
        "playing = [8,5,7,8,13]\n",
        "slices = [7,2,2,13]\n",
        "activities = ['sleeping','eating','working','playing']\n",
        "cols = ['c','m','r','b']\n",
        " \n",
        "plt.pie(slices,\n",
        "  labels=activities,\n",
        "  colors=cols,\n",
        "  startangle=90,\n",
        "  shadow= True,\n",
        "  explode=(0,0.1,0,0),\n",
        "  autopct='%1.1f%%')\n",
        " \n",
        "plt.title('Pie Plot')\n",
        "plt.show()"
      ],
      "execution_count": null,
      "outputs": [
        {
          "output_type": "display_data",
          "data": {
            "image/png": "[encoded data removed]",
            "text/plain": [
              "<Figure size 432x288 with 1 Axes>"
            ]
          },
          "metadata": {
            "tags": []
          }
        }
      ]
    },
    {
      "cell_type": "code",
      "metadata": {
        "colab": {
          "base_uri": "https://localhost:8080/",
          "height": 1000
        },
        "id": "BCwKTE9QhNPl",
        "outputId": "bb71cc9b-7b57-44d9-ee87-798a36762124"
      },
      "source": [
        "import numpy as np\n",
        "import matplotlib.pyplot as plt\n",
        "M = np.array([[1,1],[-2,2],[4,-7]])\n",
        "\n",
        "print(\"vector:1\")\n",
        "print(M[0,:])\n",
        "rows,cols = M.T.shape\n",
        "print(cols)\n",
        "\n",
        "for i,l in enumerate(range(0,cols)):\n",
        "    print(\"Iteration: {}-{}\".format(i,l))\n",
        "    print(\"vector:{}\".format(i))\n",
        "    print(M[i,:])\n",
        "    v1 = [0,0],[M[i,0],M[i,1]]\n",
        "    print(v1)\n",
        "    plt.figure(i)\n",
        "    plt.plot(v1)\n",
        "    plt.show()"
      ],
      "execution_count": null,
      "outputs": [
        {
          "output_type": "stream",
          "text": [
            "vector:1\n",
            "[1 1]\n",
            "3\n",
            "Iteration: 0-0\n",
            "vector:0\n",
            "[1 1]\n",
            "([0, 0], [1, 1])\n"
          ],
          "name": "stdout"
        },
        {
          "output_type": "display_data",
          "data": {
            "image/png": "[encoded data removed]",
            "text/plain": [
              "<Figure size 432x288 with 1 Axes>"
            ]
          },
          "metadata": {
            "tags": [],
            "needs_background": "light"
          }
        },
        {
          "output_type": "stream",
          "text": [
            "Iteration: 1-1\n",
            "vector:1\n",
            "[-2  2]\n",
            "([0, 0], [-2, 2])\n"
          ],
          "name": "stdout"
        },
        {
          "output_type": "display_data",
          "data": {
            "image/png": "[encoded data removed]",
            "text/plain": [
              "<Figure size 432x288 with 1 Axes>"
            ]
          },
          "metadata": {
            "tags": [],
            "needs_background": "light"
          }
        },
        {
          "output_type": "stream",
          "text": [
            "Iteration: 2-2\n",
            "vector:2\n",
            "[ 4 -7]\n",
            "([0, 0], [4, -7])\n"
          ],
          "name": "stdout"
        },
        {
          "output_type": "display_data",
          "data": {
            "image/png": "[encoded data removed]",
            "text/plain": [
              "<Figure size 432x288 with 1 Axes>"
            ]
          },
          "metadata": {
            "tags": [],
            "needs_background": "light"
          }
        }
      ]
    },
    {
      "cell_type": "markdown",
      "metadata": {
        "id": "34_8BDR4hU4k"
      },
      "source": [
        "# **EXERCISE-9**"
      ]
    },
    {
      "cell_type": "markdown",
      "metadata": {
        "id": "AlMbZ-tNhYay"
      },
      "source": [
        "Graph using matplotlib"
      ]
    },
    {
      "cell_type": "code",
      "metadata": {
        "colab": {
          "base_uri": "https://localhost:8080/",
          "height": 295
        },
        "id": "sJKrDN7EhQCi",
        "outputId": "e9b524e1-8f14-49fc-ea4e-65294b170e35"
      },
      "source": [
        "import matplotlib.pyplot as plt\n",
        "x = [14,22,53]\n",
        "y = [29,4,17]\n",
        "plt.plot(x, y)\n",
        "plt.xlabel('x - axis')\n",
        "plt.ylabel('y - axis')\n",
        "plt.title('My first graph!')\n",
        "plt.show()"
      ],
      "execution_count": null,
      "outputs": [
        {
          "output_type": "display_data",
          "data": {
            "image/png": "[encoded data removed]",
            "text/plain": [
              "<Figure size 432x288 with 1 Axes>"
            ]
          },
          "metadata": {
            "tags": [],
            "needs_background": "light"
          }
        }
      ]
    },
    {
      "cell_type": "markdown",
      "metadata": {
        "id": "BoDUziUihlCY"
      },
      "source": [
        "# **EXERCISE-10**"
      ]
    },
    {
      "cell_type": "markdown",
      "metadata": {
        "id": "J2lnmAplhoUQ"
      },
      "source": [
        "Vector using matplotlib"
      ]
    },
    {
      "cell_type": "code",
      "metadata": {
        "colab": {
          "base_uri": "https://localhost:8080/",
          "height": 261
        },
        "id": "erhh9tD8hcWK",
        "outputId": "a9ffa2ef-7fc8-4288-e329-25d93514c573"
      },
      "source": [
        "import numpy as np\n",
        "from matplotlib import pyplot as plt\n",
        "plt.rcParams[\"figure.figsize\"] = [7.00, 3.50]\n",
        "plt.rcParams[\"figure.autolayout\"] = True\n",
        "data = np.array([[2, 1], [-1, 2], [4, -1]])\n",
        "origin = np.array([[0, 0, 0], [0, 0, 0]])\n",
        "plt.quiver(*origin, data[:, 0], data[:, 1], color=['black', 'red', 'green'], scale=15)\n",
        "plt.show()"
      ],
      "execution_count": null,
      "outputs": [
        {
          "output_type": "display_data",
          "data": {
            "image/png": "[encoded data removed]",
            "text/plain": [
              "<Figure size 504x252 with 1 Axes>"
            ]
          },
          "metadata": {
            "tags": [],
            "needs_background": "light"
          }
        }
      ]
    },
    {
      "cell_type": "markdown",
      "metadata": {
        "id": "9QZrS4kvh0tC"
      },
      "source": [
        "# **EXERCISE-11**"
      ]
    },
    {
      "cell_type": "markdown",
      "metadata": {
        "id": "glHamAadh4eK"
      },
      "source": [
        "Program to estimate occupancy using decision tree"
      ]
    },
    {
      "cell_type": "code",
      "metadata": {
        "id": "h9ok4liNhrEv",
        "colab": {
          "base_uri": "https://localhost:8080/"
        },
        "outputId": "06f9f6d1-d9be-4295-ad8a-50e8b429944e"
      },
      "source": [
        "from sklearn.cluster import KMeans\n",
        "import numpy as np\n",
        "X = np.array([[1, 2], [1, 4], [1, 0],\n",
        "              [10, 2], [10, 4], [10, 0]])\n",
        "kmeans = KMeans(n_clusters=2, random_state=0).fit(X)\n",
        "kmeans.labels_"
      ],
      "execution_count": null,
      "outputs": [
        {
          "output_type": "execute_result",
          "data": {
            "text/plain": [
              "array([1, 1, 1, 0, 0, 0], dtype=int32)"
            ]
          },
          "metadata": {
            "tags": []
          },
          "execution_count": 1
        }
      ]
    },
    {
      "cell_type": "code",
      "metadata": {
        "id": "_Rx9_InXsYT5"
      },
      "source": [
        ""
      ],
      "execution_count": null,
      "outputs": []
    }
  ]
}